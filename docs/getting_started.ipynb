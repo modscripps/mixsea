{
 "cells": [
  {
   "cell_type": "markdown",
   "metadata": {
    "janus": {
     "all_versions_showing": false,
     "cell_hidden": false,
     "current_version": 0,
     "id": "52ba291eebef",
     "named_versions": [],
     "output_hidden": false,
     "show_versions": false,
     "source_hidden": false,
     "versions": []
    }
   },
   "source": [
    "# Getting Started"
   ]
  },
  {
   "cell_type": "markdown",
   "metadata": {
    "janus": {
     "all_versions_showing": false,
     "cell_hidden": false,
     "current_version": 0,
     "id": "f2fd47f80438b",
     "named_versions": [],
     "output_hidden": false,
     "show_versions": false,
     "source_hidden": false,
     "versions": []
    }
   },
   "source": [
    "<div class=\"alert alert-info\">\n",
    "\n",
    "Note\n",
    "\n",
    "This section is available as jupyter notebook in the `docs/` directory or at https://github.com/modscripps/mixsea/tree/master/docs.\n",
    "\n",
    "</div>"
   ]
  },
  {
   "cell_type": "markdown",
   "metadata": {
    "janus": {
     "all_versions_showing": false,
     "cell_hidden": false,
     "current_version": 0,
     "id": "503fd9cd7e3d18",
     "named_versions": [],
     "output_hidden": false,
     "show_versions": false,
     "source_hidden": false,
     "versions": []
    }
   },
   "source": [
    "First import `mixsea` and the usual suspects:"
   ]
  },
  {
   "cell_type": "code",
   "execution_count": null,
   "metadata": {
    "janus": {
     "all_versions_showing": false,
     "cell_hidden": false,
     "current_version": 0,
     "id": "5095fbea004c38",
     "named_versions": [],
     "output_hidden": false,
     "show_versions": false,
     "source_hidden": false,
     "versions": []
    }
   },
   "outputs": [],
   "source": [
    "import mixsea as mx\n",
    "import numpy as np\n",
    "import matplotlib.pyplot as plt"
   ]
  },
  {
   "cell_type": "markdown",
   "metadata": {
    "janus": {
     "all_versions_showing": false,
     "cell_hidden": false,
     "current_version": 0,
     "id": "98984abdda3f78",
     "named_versions": [],
     "output_hidden": false,
     "show_versions": false,
     "source_hidden": false,
     "versions": []
    }
   },
   "source": [
    "## Read Example CTD/LADCP Profile\n",
    "\n",
    "Read an example CTD and LADCP profile from the test suite using a little helper function:"
   ]
  },
  {
   "cell_type": "code",
   "execution_count": null,
   "metadata": {
    "janus": {
     "all_versions_showing": false,
     "cell_hidden": false,
     "current_version": 0,
     "id": "06bb7b7703f98",
     "named_versions": [],
     "output_hidden": false,
     "show_versions": false,
     "source_hidden": false,
     "versions": []
    }
   },
   "outputs": [],
   "source": [
    "ctd = mx.helpers.read_ctd_testfile()\n",
    "ladcp = mx.helpers.read_ladcp_testfile()"
   ]
  },
  {
   "cell_type": "markdown",
   "metadata": {
    "janus": {
     "all_versions_showing": false,
     "cell_hidden": false,
     "current_version": 0,
     "id": "7647faceff63",
     "named_versions": [],
     "output_hidden": false,
     "show_versions": false,
     "source_hidden": false,
     "versions": []
    }
   },
   "source": [
    "A quick overview plot of the data:"
   ]
  },
  {
   "cell_type": "code",
   "execution_count": null,
   "metadata": {
    "janus": {
     "all_versions_showing": false,
     "cell_hidden": false,
     "current_version": 0,
     "id": "f5fe8d01d3c",
     "named_versions": [],
     "output_hidden": false,
     "show_versions": false,
     "source_hidden": false,
     "versions": []
    }
   },
   "outputs": [],
   "source": [
    "fig, ax = plt.subplots(nrows=1,\n",
    "                           ncols=3,\n",
    "                           figsize=(9, 3),\n",
    "                           constrained_layout=True,\n",
    "                           sharey=True)\n",
    "ax[0].plot(ctd['t'], ctd['depth'])\n",
    "ax[0].set(ylabel='depth [m]', xlabel='temperature [°C]')\n",
    "ax[1].plot(ladcp['u'], ladcp['depth'], label='u')\n",
    "ax[1].plot(ladcp['v'], ladcp['depth'], label='v')\n",
    "ax[1].set(xlabel='velocity [m/s]')\n",
    "ax[1].legend()\n",
    "ax[2].plot(ladcp['uz'], ladcp['depth'], label=r'u$_{z}$')\n",
    "ax[2].plot(ladcp['vz'], ladcp['depth'], label=r'v$_{z}$')\n",
    "ax[2].set(xlabel='shear [1/s]')\n",
    "ax[2].legend()\n",
    "ax[0].invert_yaxis()"
   ]
  },
  {
   "cell_type": "markdown",
   "metadata": {
    "janus": {
     "all_versions_showing": false,
     "cell_hidden": false,
     "current_version": 0,
     "id": "7dab5a1f6a56",
     "named_versions": [],
     "output_hidden": false,
     "show_versions": false,
     "source_hidden": false,
     "versions": []
    }
   },
   "source": [
    "This is cast 81 from the 2012 Samoan Passage cruise. The layer of cold\n",
    "Antarctic Bottom Water flowing through the Samoan Passage shows up in\n",
    "temperature, velocity and shear. See <cite data-cite=\"voetetal15\">Voet et al. (2015)</cite> for more information.\n",
    "\n",
    "Now we have data on hand to apply mixing parameterizations below."
   ]
  },
  {
   "cell_type": "markdown",
   "metadata": {
    "janus": {
     "all_versions_showing": false,
     "cell_hidden": false,
     "current_version": 0,
     "id": "d5d32e47ebfd58",
     "named_versions": [],
     "output_hidden": false,
     "show_versions": false,
     "source_hidden": false,
     "versions": []
    }
   },
   "source": [
    "## Thorpe Scales / Overturns\n",
    "\n",
    "**A note about NaN values:** A common practise when compiling observational data from ctd casts is to pad the top and/or bottom of profiles with NaN. This allows for convenient storage of many different length profiles in one 2D array. However, it also means we must constantly think about how to deal with NaN values in our data. `mixsea` contains a version of the Thorpe scale method that attempts to deal with NaN values in the most simple way possible, that is, it removes them before doing any calculations and then adds them back at the end. In many cases, such a simple approach will not be appropriate and could lead to erroneous results. As such, we highly recommend performing a quality control of your data prior to Thorpe scale analysis. In the example below we use `nan_eps_overturn` because our test data contain NaNs. If your data do not, then it is better to use `eps_overturn` directly."
   ]
  },
  {
   "cell_type": "code",
   "execution_count": null,
   "metadata": {
    "janus": {
     "all_versions_showing": false,
     "cell_hidden": false,
     "current_version": 0,
     "id": "b6b49a432a1f4",
     "named_versions": [],
     "output_hidden": false,
     "show_versions": false,
     "source_hidden": false,
     "versions": []
    }
   },
   "outputs": [],
   "source": [
    "dnoise = 5e-4  # Noise parameter\n",
    "alpha = 0.95  # Coefficient relating the Thorpe and Ozmidov scales.\n",
    "# Background value of epsilon applied where no overturns are detected.\n",
    "background_eps = np.nan\n",
    "\n",
    "eps, N2 = mx.overturn.nan_eps_overturn(\n",
    "    ctd[\"depth\"],\n",
    "    ctd[\"t\"],\n",
    "    ctd[\"SP\"],\n",
    "    ctd[\"lon\"][0],\n",
    "    ctd[\"lat\"][0],\n",
    "    dnoise=dnoise,\n",
    "    alpha=alpha,\n",
    "    background_eps=background_eps,\n",
    ")"
   ]
  },
  {
   "cell_type": "markdown",
   "metadata": {
    "janus": {
     "all_versions_showing": false,
     "cell_hidden": false,
     "current_version": 0,
     "id": "4118c3fabad66",
     "named_versions": [],
     "output_hidden": false,
     "show_versions": false,
     "source_hidden": false,
     "versions": []
    }
   },
   "source": [
    "Take a look at the result."
   ]
  },
  {
   "cell_type": "code",
   "execution_count": null,
   "metadata": {
    "janus": {
     "all_versions_showing": false,
     "cell_hidden": false,
     "current_version": 0,
     "id": "633575296465e8",
     "named_versions": [],
     "output_hidden": false,
     "show_versions": false,
     "source_hidden": false,
     "versions": []
    }
   },
   "outputs": [],
   "source": [
    "N = np.sqrt(N2) * (86400 / (2 * np.pi))  # Calculate buoyancy frequency in units of cpd.\n",
    "\n",
    "# Plot only in the depth range:\n",
    "cut = (ctd['depth'] > 4200) & (ctd['depth'] < 4400)\n",
    "depth = ctd['depth'][cut]\n",
    "\n",
    "fig, axs = plt.subplots(1, 4, sharey=True, figsize=(9, 6))\n",
    "axs[0].plot(N[cut], depth)\n",
    "axs[1].plot(eps[cut], depth)\n",
    "axs[2].plot(ctd[\"t\"][cut], depth)\n",
    "axs[3].plot(ctd[\"SP\"][cut], depth)\n",
    "axs[0].invert_yaxis()\n",
    "axs[0].set_ylabel(\"Depth [m]\")\n",
    "axs[0].set_xlabel(r\"$N$ [cpd]\")\n",
    "axs[1].set_xlabel(r\"$\\epsilon$ [W/kg]\")\n",
    "axs[2].set_xlabel(r\"Temperature [$^\\circ$C]\")\n",
    "axs[3].set_xlabel(\"Salinity [g/kg]\")\n",
    "fig.align_labels()"
   ]
  },
  {
   "cell_type": "markdown",
   "metadata": {
    "janus": {
     "all_versions_showing": false,
     "cell_hidden": false,
     "current_version": 0,
     "id": "640def2242cea8",
     "named_versions": [],
     "output_hidden": false,
     "show_versions": false,
     "source_hidden": false,
     "versions": []
    }
   },
   "source": [
    "## Shear/Strain\n",
    "\n",
    "Set up parameters for the shear/strain parameterization:"
   ]
  },
  {
   "cell_type": "code",
   "execution_count": null,
   "metadata": {
    "janus": {
     "all_versions_showing": false,
     "cell_hidden": false,
     "current_version": 0,
     "id": "9a572b066259",
     "named_versions": [],
     "output_hidden": false,
     "show_versions": false,
     "source_hidden": false,
     "versions": []
    }
   },
   "outputs": [],
   "source": [
    "# Center points of depth windows. Windows are half overlapping, i.e.\n",
    "# their size (200m) is double the spacing here (100m).\n",
    "window_size = 200\n",
    "dz = window_size / 2\n",
    "print(\"window size {} m, window spacing {} m\".format(window_size, dz))\n",
    "depth_bin = np.linspace(dz, dz * 60, num=60)\n",
    "# Wavenumber vector. Starts at wavenumber corresponding to a 200m\n",
    "# wavelength.\n",
    "m = np.arange(2 * np.pi / 200, 2 * np.pi / 10, 2 * np.pi / 200)\n",
    "# Wavenumber indices for integration. Shear is integrated from 300m to\n",
    "# 100m scales. Strain is integrated from 150m to 30m.\n",
    "m_include_sh = list(range(3))\n",
    "m_include_st = list(range(1, 12))"
   ]
  },
  {
   "cell_type": "markdown",
   "metadata": {
    "janus": {
     "all_versions_showing": false,
     "cell_hidden": false,
     "current_version": 0,
     "id": "c41f8f269f8438",
     "named_versions": [],
     "output_hidden": false,
     "show_versions": false,
     "source_hidden": false,
     "versions": []
    }
   },
   "source": [
    "Now run the shear/strain parameterization:"
   ]
  },
  {
   "cell_type": "code",
   "execution_count": null,
   "metadata": {
    "janus": {
     "all_versions_showing": false,
     "cell_hidden": false,
     "current_version": 0,
     "id": "83b2ab34a7137",
     "named_versions": [],
     "output_hidden": false,
     "show_versions": false,
     "source_hidden": false,
     "versions": []
    }
   },
   "outputs": [],
   "source": [
    "eps_shst, krho_shst, diag = mx.shearstrain.nan_shearstrain(\n",
    "    ctd[\"depth\"],\n",
    "    ctd[\"t\"],\n",
    "    ctd[\"SP\"],\n",
    "    ctd[\"lon\"],\n",
    "    ctd[\"lat\"],\n",
    "    ladcp[\"uz\"],\n",
    "    ladcp[\"vz\"],\n",
    "    ladcp[\"depth\"],\n",
    "    m=m,\n",
    "    depth_bin=depth_bin,\n",
    "    m_include_sh=m_include_sh,\n",
    "    m_include_st=m_include_st,\n",
    "    ladcp_is_shear=True,\n",
    "    smooth=\"AL\",\n",
    "    return_diagnostics=True,\n",
    ")"
   ]
  },
  {
   "cell_type": "markdown",
   "metadata": {
    "janus": {
     "all_versions_showing": false,
     "cell_hidden": false,
     "current_version": 0,
     "id": "cd47e6c0956a08",
     "named_versions": [],
     "output_hidden": false,
     "show_versions": false,
     "source_hidden": false,
     "versions": []
    }
   },
   "source": [
    "Plot the results:"
   ]
  },
  {
   "cell_type": "code",
   "execution_count": null,
   "metadata": {
    "janus": {
     "all_versions_showing": false,
     "cell_hidden": false,
     "current_version": 0,
     "id": "ce67995fee7888",
     "named_versions": [],
     "output_hidden": false,
     "show_versions": false,
     "source_hidden": false,
     "versions": []
    }
   },
   "outputs": [],
   "source": [
    "depth_bin = diag['depth_bin']\n",
    "eps_st = diag['eps_st']\n",
    "krho_st = diag['krho_st']\n",
    "fig, ax = plt.subplots(nrows=1, ncols=2, figsize=(9, 5),\n",
    "constrained_layout=True, sharey=True)\n",
    "ax[0].plot(eps_shst, depth_bin, label='shear/strain');\n",
    "ax[0].plot(eps_st, depth_bin, label='strain only');\n",
    "ax[0].legend()\n",
    "ax[0].set(xscale='log', xlabel=r'$\\epsilon$ [W/kg]', ylabel='depth [m]',\n",
    "          title='turbulent dissipation');\n",
    "ax[1].plot(krho_shst, depth_bin, label='shear/strain');\n",
    "ax[1].plot(krho_st, depth_bin, label='strain only');\n",
    "ax[1].legend();\n",
    "ax[1].set(xscale='log', xlabel=r'k$_{\\rho}$ [m$^2$/s]',\n",
    "          title='vertical diffusivity');\n",
    "ax[0].invert_yaxis()"
   ]
  },
  {
   "cell_type": "code",
   "execution_count": null,
   "metadata": {},
   "outputs": [],
   "source": []
  }
 ],
 "metadata": {
  "janus": {
   "filepaths": [],
   "janus_markers": [],
   "track_history": true
  },
  "jupytext": {
   "encoding": "# -*- coding: utf-8 -*-",
   "formats": "ipynb,py:percent"
  },
  "kernelspec": {
   "display_name": "Python 3.8.2 64-bit ('mixsea': conda)",
   "language": "python",
   "name": "python38264bitmixseaconda7d057632f52e406aa3ea1ab383c05b28"
  },
  "language_info": {
   "codemirror_mode": {
    "name": "ipython",
    "version": 3
   },
   "file_extension": ".py",
   "mimetype": "text/x-python",
   "name": "python",
   "nbconvert_exporter": "python",
   "pygments_lexer": "ipython3",
   "version": "3.8.2"
  }
 },
 "nbformat": 4,
 "nbformat_minor": 4
}
