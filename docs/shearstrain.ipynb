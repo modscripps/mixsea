{
 "cells": [
  {
   "cell_type": "markdown",
   "metadata": {
    "janus": {
     "all_versions_showing": false,
     "cell_hidden": false,
     "current_version": 0,
     "id": "52ba291eebef",
     "named_versions": [],
     "output_hidden": false,
     "show_versions": false,
     "source_hidden": false,
     "versions": []
    }
   },
   "source": [
    "# Shear/Strain Parameterization"
   ]
  },
  {
   "cell_type": "markdown",
   "metadata": {
    "janus": {
     "all_versions_showing": false,
     "cell_hidden": false,
     "current_version": 0,
     "id": "f2fd47f80438b",
     "named_versions": [],
     "output_hidden": false,
     "show_versions": false,
     "source_hidden": false,
     "versions": []
    }
   },
   "source": [
    "<div class=\"alert alert-info\">\n",
    "\n",
    "Note\n",
    "\n",
    "This section is available as jupyter notebook in the `docs/` directory or at https://github.com/modscripps/mixsea/tree/master/docs.\n",
    "\n",
    "</div>"
   ]
  },
  {
   "cell_type": "markdown",
   "metadata": {
    "janus": {
     "all_versions_showing": false,
     "cell_hidden": false,
     "current_version": 0,
     "id": "503fd9cd7e3d18",
     "named_versions": [],
     "output_hidden": false,
     "show_versions": false,
     "source_hidden": false,
     "versions": []
    }
   },
   "source": [
    "Import `mixsea` and a few other modules:"
   ]
  },
  {
   "cell_type": "code",
   "execution_count": null,
   "metadata": {
    "janus": {
     "all_versions_showing": false,
     "cell_hidden": false,
     "current_version": 0,
     "id": "5095fbea004c38",
     "named_versions": [],
     "output_hidden": false,
     "show_versions": false,
     "source_hidden": false,
     "versions": []
    }
   },
   "outputs": [],
   "source": [
    "import mixsea as mx\n",
    "import numpy as np\n",
    "import matplotlib.pyplot as plt"
   ]
  },
  {
   "cell_type": "markdown",
   "metadata": {},
   "source": [
    "Read example data"
   ]
  },
  {
   "cell_type": "code",
   "execution_count": null,
   "metadata": {
    "janus": {
     "all_versions_showing": false,
     "cell_hidden": false,
     "current_version": 0,
     "id": "06bb7b7703f98",
     "named_versions": [],
     "output_hidden": false,
     "show_versions": false,
     "source_hidden": false,
     "versions": []
    }
   },
   "outputs": [],
   "source": [
    "ctd = mx.helpers.read_ctd_testfile()\n",
    "ladcp = mx.helpers.read_ladcp_testfile()"
   ]
  },
  {
   "cell_type": "markdown",
   "metadata": {},
   "source": [
    "Our example data contain some NaN values, as is common with observational datasets. Below we isolate the good data by removing NaNs. See the section [Missing Data](#Missing-Data) for using `nan_shearstrain` with input data that contains NaNs."
   ]
  },
  {
   "cell_type": "code",
   "execution_count": null,
   "metadata": {},
   "outputs": [],
   "source": [
    "def nonan(data):\n",
    "    notnan = [np.isfinite(v) for k, v in data.items()]\n",
    "    notnan = np.vstack(notnan)\n",
    "    notnan = np.all(notnan, axis=0)\n",
    "    return notnan\n",
    "\n",
    "\n",
    "notnan = nonan(ctd)\n",
    "depth = ctd[\"depth\"][notnan]\n",
    "t = ctd[\"t\"][notnan]\n",
    "SP = ctd[\"SP\"][notnan]\n",
    "lon = ctd[\"lon\"][0]\n",
    "lat = ctd[\"lat\"][0]\n",
    "\n",
    "notnan = nonan(ladcp)\n",
    "u = ladcp[\"u\"][notnan]\n",
    "v = ladcp[\"v\"][notnan]\n",
    "uz = ladcp[\"uz\"][notnan]\n",
    "vz = ladcp[\"vz\"][notnan]\n",
    "depth_sh = ladcp[\"depth\"][notnan]"
   ]
  },
  {
   "cell_type": "markdown",
   "metadata": {
    "janus": {
     "all_versions_showing": false,
     "cell_hidden": false,
     "current_version": 0,
     "id": "7647faceff63",
     "named_versions": [],
     "output_hidden": false,
     "show_versions": false,
     "source_hidden": false,
     "versions": []
    }
   },
   "source": [
    "A quick overview plot of the data:"
   ]
  },
  {
   "cell_type": "code",
   "execution_count": null,
   "metadata": {
    "janus": {
     "all_versions_showing": false,
     "cell_hidden": false,
     "current_version": 0,
     "id": "f5fe8d01d3c",
     "named_versions": [],
     "output_hidden": false,
     "show_versions": false,
     "source_hidden": false,
     "versions": []
    }
   },
   "outputs": [],
   "source": [
    "fig, ax = plt.subplots(\n",
    "    nrows=1, ncols=3, figsize=(9, 4), constrained_layout=True, sharey=True\n",
    ")\n",
    "ax[0].plot(t, depth)\n",
    "ax[0].set(ylabel=\"depth [m]\", xlabel=\"temperature [°C]\")\n",
    "ax[1].plot(u, depth_sh, label=\"u\")\n",
    "ax[1].plot(v, depth_sh, label=\"v\")\n",
    "ax[1].set(xlabel=\"velocity [m/s]\")\n",
    "ax[1].legend()\n",
    "ax[2].plot(uz, depth_sh, label=r\"u$_{z}$\")\n",
    "ax[2].plot(vz, depth_sh, label=r\"v$_{z}$\")\n",
    "ax[2].set(xlabel=\"shear [1/s]\")\n",
    "ax[2].legend()\n",
    "ax[0].invert_yaxis()"
   ]
  },
  {
   "cell_type": "markdown",
   "metadata": {
    "janus": {
     "all_versions_showing": false,
     "cell_hidden": false,
     "current_version": 0,
     "id": "640def2242cea8",
     "named_versions": [],
     "output_hidden": false,
     "show_versions": false,
     "source_hidden": false,
     "versions": []
    }
   },
   "source": [
    "## Stratification Smoothing Techniques"
   ]
  },
  {
   "cell_type": "markdown",
   "metadata": {},
   "source": [
    "`shearstrain` allows to select between two different techniques for obtaining a smooth profile of $N^2$.\n",
    "\n",
    "**Polynomial Fitting** applies a second order polynomial fit to $N^2$ for each segment to obtain a smooth profile, compare e.g. Kunze et al. (2006), Whalen et al. (2012, 2015).\n",
    "\n",
    "**Adiabatic Leveling** finds locally stable density gradients to calculate a smooth $N^2$ profile following Bray & Fofonoff (1981), see e.g. Polzin et al. (2014), Waterman et al. (2013, 2014)."
   ]
  },
  {
   "cell_type": "markdown",
   "metadata": {},
   "source": [
    "Set up shear/strain input parameters:"
   ]
  },
  {
   "cell_type": "code",
   "execution_count": null,
   "metadata": {
    "janus": {
     "all_versions_showing": false,
     "cell_hidden": false,
     "current_version": 0,
     "id": "9a572b066259",
     "named_versions": [],
     "output_hidden": false,
     "show_versions": false,
     "source_hidden": false,
     "versions": []
    }
   },
   "outputs": [],
   "source": [
    "shst_params = dict()\n",
    "# Center points of depth windows. Windows are half overlapping, i.e.\n",
    "# their size (300m) is double the spacing here (150m).\n",
    "window_size = 300\n",
    "dz = window_size / 2\n",
    "print(\"window size {} m, window spacing {} m\".format(window_size, dz))\n",
    "shst_params[\"depth_bin\"] = np.linspace(dz, dz * 80, num=80)\n",
    "# Wavenumber vector.\n",
    "shst_params[\"m\"] = np.arange(\n",
    "    2 * np.pi / window_size, 2 * np.pi / 10, 2 * np.pi / window_size\n",
    ")\n",
    "# Wavenumber indices for integration. Shear is integrated from 300m to\n",
    "# 100m scales. Strain is integrated from 150m to 30m.\n",
    "shst_params[\"m_include_sh\"] = list(range(3))\n",
    "shst_params[\"m_include_st\"] = list(range(1, 12))\n",
    "\n",
    "shst_params[\"ladcp_is_shear\"] = True\n",
    "shst_params[\"return_diagnostics\"] = True"
   ]
  },
  {
   "cell_type": "markdown",
   "metadata": {
    "janus": {
     "all_versions_showing": false,
     "cell_hidden": false,
     "current_version": 0,
     "id": "c41f8f269f8438",
     "named_versions": [],
     "output_hidden": false,
     "show_versions": false,
     "source_hidden": false,
     "versions": []
    }
   },
   "source": [
    "Run the shear/strain parameterization for both $N^2$ techniques:"
   ]
  },
  {
   "cell_type": "code",
   "execution_count": null,
   "metadata": {
    "janus": {
     "all_versions_showing": false,
     "cell_hidden": false,
     "current_version": 0,
     "id": "83b2ab34a7137",
     "named_versions": [],
     "output_hidden": false,
     "show_versions": false,
     "source_hidden": false,
     "versions": []
    }
   },
   "outputs": [],
   "source": [
    "eps_shst, krho_shst, diag = mx.shearstrain.shearstrain(\n",
    "    depth, t, SP, lon, lat, uz, vz, depth_sh, smooth=\"PF\", **shst_params\n",
    ")"
   ]
  },
  {
   "cell_type": "code",
   "execution_count": null,
   "metadata": {
    "janus": {
     "all_versions_showing": false,
     "cell_hidden": false,
     "current_version": 0,
     "id": "83b2ab34a7137",
     "named_versions": [],
     "output_hidden": false,
     "show_versions": false,
     "source_hidden": false,
     "versions": []
    }
   },
   "outputs": [],
   "source": [
    "eps_shst2, krho_shst2, diag2 = mx.shearstrain.shearstrain(\n",
    "    depth, t, SP, lon, lat, uz, vz, depth_sh, smooth=\"AL\", **shst_params\n",
    ")"
   ]
  },
  {
   "cell_type": "code",
   "execution_count": null,
   "metadata": {
    "janus": {
     "all_versions_showing": false,
     "cell_hidden": false,
     "current_version": 0,
     "id": "ce67995fee7888",
     "named_versions": [],
     "output_hidden": false,
     "show_versions": false,
     "source_hidden": false,
     "versions": []
    }
   },
   "outputs": [],
   "source": [
    "depth_bin = diag[\"depth_bin\"]\n",
    "fig, ax = plt.subplots(\n",
    "    nrows=1, ncols=2, figsize=(6, 4), constrained_layout=True, sharey=True\n",
    ")\n",
    "opts = dict(drawstyle=\"steps-mid\")\n",
    "# shear/strain\n",
    "ax[0].plot(eps_shst, depth_bin, label=\"shear/strain PF\", **opts)\n",
    "ax[0].plot(eps_shst2, depth_bin, label=\"shear/strain AL\", **opts)\n",
    "ax[0].legend()\n",
    "ax[0].set(\n",
    "    xscale=\"log\", xlabel=r\"$\\epsilon$ [W/kg]\", ylabel=\"depth [m]\",\n",
    ")\n",
    "# strain only\n",
    "eps_st = diag[\"eps_st\"]\n",
    "eps_st2 = diag2[\"eps_st\"]\n",
    "ax[1].plot(eps_st, depth_bin, label=\"strain only PF\", **opts)\n",
    "ax[1].plot(eps_st2, depth_bin, label=\"strain only AL\", **opts)\n",
    "ax[1].legend()\n",
    "ax[1].set(\n",
    "    xscale=\"log\", xlabel=r\"$\\epsilon$ [W/kg]\",\n",
    ")\n",
    "ax[0].invert_yaxis()"
   ]
  },
  {
   "cell_type": "markdown",
   "metadata": {},
   "source": [
    "<a id='Missing-Data'></a>\n",
    "\n",
    "## Missing Data"
   ]
  },
  {
   "cell_type": "markdown",
   "metadata": {},
   "source": [
    "Here we pass the data as is, containing NaNs, to `nan_shearstrain`."
   ]
  },
  {
   "cell_type": "code",
   "execution_count": null,
   "metadata": {},
   "outputs": [],
   "source": [
    "eps_shst3, krho_shst3, diag3 = mx.shearstrain.nan_shearstrain(\n",
    "    ctd[\"depth\"],\n",
    "    ctd[\"t\"],\n",
    "    ctd[\"SP\"],\n",
    "    ctd[\"lon\"],\n",
    "    ctd[\"lat\"],\n",
    "    ladcp[\"uz\"],\n",
    "    ladcp[\"vz\"],\n",
    "    ladcp[\"depth\"],\n",
    "    smooth=\"PF\",\n",
    "    **shst_params\n",
    ")"
   ]
  },
  {
   "cell_type": "markdown",
   "metadata": {},
   "source": [
    "Compare with result of `shearstrain` from above:"
   ]
  },
  {
   "cell_type": "code",
   "execution_count": null,
   "metadata": {
    "janus": {
     "all_versions_showing": false,
     "cell_hidden": false,
     "current_version": 0,
     "id": "ce67995fee7888",
     "named_versions": [],
     "output_hidden": false,
     "show_versions": false,
     "source_hidden": false,
     "versions": []
    }
   },
   "outputs": [],
   "source": [
    "depth_bin = diag[\"depth_bin\"]\n",
    "depth_bin3 = diag3[\"depth_bin\"]\n",
    "fig, ax = plt.subplots(\n",
    "    nrows=1, ncols=2, figsize=(6, 4), constrained_layout=True, sharey=True\n",
    ")\n",
    "opts = dict(drawstyle=\"steps-mid\")\n",
    "# shear/strain\n",
    "ax[0].plot(eps_shst, depth_bin, label=\"shear/strain PF\", **opts)\n",
    "ax[0].plot(eps_shst3, depth_bin3, label=\"shear/strain PF\", linestyle=\"--\", **opts)\n",
    "ax[0].legend()\n",
    "ax[0].set(\n",
    "    xscale=\"log\", xlabel=r\"$\\epsilon$ [W/kg]\", ylabel=\"depth [m]\",\n",
    ")\n",
    "# strain only\n",
    "eps_st = diag[\"eps_st\"]\n",
    "eps_st3 = diag3[\"eps_st\"]\n",
    "ax[1].plot(eps_st, depth_bin, label=\"strain only PF\", **opts)\n",
    "ax[1].plot(eps_st3, depth_bin3, label=\"strain only PF\", linestyle=\"--\", **opts)\n",
    "ax[1].legend()\n",
    "ax[1].set(\n",
    "    xscale=\"log\", xlabel=r\"$\\epsilon$ [W/kg]\",\n",
    ")\n",
    "ax[0].invert_yaxis()"
   ]
  }
 ],
 "metadata": {
  "janus": {
   "filepaths": [],
   "janus_markers": [],
   "track_history": true
  },
  "jupytext": {
   "encoding": "# -*- coding: utf-8 -*-",
   "formats": "ipynb,py:percent",
   "text_representation": {
    "extension": ".py",
    "format_name": "percent",
    "format_version": "1.2",
    "jupytext_version": "1.2.4"
   }
  },
  "kernelspec": {
   "display_name": "mixsea",
   "language": "python",
   "name": "mixsea"
  },
  "language_info": {
   "codemirror_mode": {
    "name": "ipython",
    "version": 3
   },
   "file_extension": ".py",
   "mimetype": "text/x-python",
   "name": "python",
   "nbconvert_exporter": "python",
   "pygments_lexer": "ipython3",
   "version": "3.8.2"
  }
 },
 "nbformat": 4,
 "nbformat_minor": 4
}
