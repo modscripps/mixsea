{
 "cells": [
  {
   "cell_type": "markdown",
   "metadata": {},
   "source": [
    "# Thorpe scales - diving into the details\n",
    "\n",
    "Here we'll examine some of the options in the Thorpe scale routine and their effect on the output.\n",
    "\n",
    "First, we load modules and example data."
   ]
  },
  {
   "cell_type": "code",
   "execution_count": null,
   "metadata": {},
   "outputs": [],
   "source": [
    "import mixsea as mx\n",
    "import numpy as np\n",
    "import matplotlib.pyplot as plt\n",
    "\n",
    "ctd = mx.helpers.read_ctd_testfile()"
   ]
  },
  {
   "cell_type": "markdown",
   "metadata": {},
   "source": [
    "Our example data contain some NaN values, as is common with observational datasets. Below we isolate the good data by removing NaNs."
   ]
  },
  {
   "cell_type": "code",
   "execution_count": null,
   "metadata": {},
   "outputs": [],
   "source": [
    "notnan = np.isfinite(ctd[\"p\"]) & np.isfinite(ctd[\"t\"]) & np.isfinite(ctd[\"s\"])\n",
    "\n",
    "p = ctd[\"p\"][notnan]\n",
    "t = ctd[\"t\"][notnan]\n",
    "s = ctd[\"s\"][notnan]\n",
    "lon = ctd[\"lon\"][0]\n",
    "lat = ctd[\"lat\"][0]"
   ]
  },
  {
   "cell_type": "markdown",
   "metadata": {},
   "source": [
    "## Without the intermediate profile method\n",
    "\n",
    "Now we run the Thorpe scale algorithm on the good test data, first without using the intermediate profile method."
   ]
  },
  {
   "cell_type": "code",
   "execution_count": null,
   "metadata": {},
   "outputs": [],
   "source": [
    "dnoise = 5e-4  # Noise parameter\n",
    "alpha_sq = 0.9  # Square of the coefficient relating the Thorpe and Ozmidov scales.\n",
    "# Background value of epsilon applied where no overturns are detected.\n",
    "background_eps = np.nan\n",
    "# Do not use the intermediate profile method\n",
    "use_ip = False\n",
    "# Critical value of the overturn ratio\n",
    "Roc = 0.2\n",
    "\n",
    "# Calculate Thorpe scales and diagnostics.\n",
    "eps, n2, diag = mx.overturn.eps_overturn(\n",
    "    p,\n",
    "    t,\n",
    "    s,\n",
    "    lon,\n",
    "    lat,\n",
    "    dnoise=dnoise,\n",
    "    alpha_sq=alpha_sq,\n",
    "    Roc=Roc,\n",
    "    background_eps=background_eps,\n",
    "    use_ip=use_ip,\n",
    "    return_diagnostics=True,\n",
    ")"
   ]
  },
  {
   "cell_type": "markdown",
   "metadata": {},
   "source": [
    "Lets look at some of the diagnostics, there are several available to us, all contained in a dictionary."
   ]
  },
  {
   "cell_type": "code",
   "execution_count": null,
   "metadata": {},
   "outputs": [],
   "source": [
    "for key in diag:\n",
    "    print(key)"
   ]
  },
  {
   "cell_type": "markdown",
   "metadata": {},
   "source": [
    "Some of the diagnostics are as follows:\n",
    "\n",
    "* `eps`: the dissipation rate estimated before applying quality control flags.\n",
    "* `n2`: the buoyancy frequency squared estimated before applying quality control flags.\n",
    "* `Lt`: the Thorpe scale.\n",
    "* `thorpe_disp`: the Thorpe displacements.\n",
    "* `den`: potential density (this may appear 'steppy' due to the use of different reference pressures at for different pressure ranges).\n",
    "* `dens_sorted`: sorted potential density.\n",
    "* `dens_ip`: density from the intermediate profile method. (Does not appear in the list above because the intermediate profile method was not used)\n",
    "* `CT_ip`: conservative temperature from the intermediate profile method. (Does not appear in the list above because intermediate profile method was not used)\n",
    "* `Ro`: the overturn ratio.\n",
    "* `CT_sorted`: sorted conservative temperature.\n",
    "* `SA_sorted`: sorted absolute salinity.\n",
    "\n",
    "Some of the quality control flags:\n",
    "\n",
    "* `noise_flag`: if density difference from the top to bottom of the overturn is less than the noise parameter, this flag will be True.\n",
    "* `n2_flag`: if buoyancy frequency is negative, this flag will be True.\n",
    "* `ends_flag`: if an overturn contains the first or last point in the data, this flag will be True.\n",
    "* `Ro_flag`: if the overturn ratio is less than the critical value, this flag will be True.\n",
    "\n",
    "If we zoom into a segment, it is easier to understand what these diagnostics mean."
   ]
  },
  {
   "cell_type": "code",
   "execution_count": null,
   "metadata": {},
   "outputs": [],
   "source": [
    "# Plot only in the depth range:\n",
    "z = ctd[\"z\"][notnan]\n",
    "cut = (z > 4260) & (z < 4500)\n",
    "zc = z[cut]\n",
    "\n",
    "fig, axs = plt.subplots(1, 4, sharey=True, figsize=(12, 6))\n",
    "axs[0].plot(diag[\"dens\"][cut], zc, label=\"density\")\n",
    "axs[0].plot(diag[\"dens_sorted\"][cut], zc, label=\"sorted density\")\n",
    "axs[1].plot(diag[\"eps\"][cut], zc, label=\"rejected epsilon\", color=\"r\")\n",
    "axs[1].plot(eps[cut], zc, label=\"accepted epsilon\", color=\"g\")\n",
    "axs[2].plot(diag[\"n2\"][cut], zc, label=\"rejected N2\", color=\"r\")\n",
    "axs[2].plot(n2[cut], zc, label=\"accepted N2\", color=\"g\")\n",
    "axs[3].plot(diag[\"thorpe_disp\"][cut], zc, label=\"Thorpe displacement\")\n",
    "axs[3].plot(diag[\"Lt\"][cut], zc, label=\"Thorpe scale\")\n",
    "axs[0].invert_yaxis()\n",
    "axs[0].legend(loc=\"lower left\", bbox_to_anchor=(0, 1))\n",
    "axs[1].legend(loc=\"lower left\", bbox_to_anchor=(0, 1))\n",
    "axs[2].legend(loc=\"lower left\", bbox_to_anchor=(0, 1))\n",
    "axs[3].legend(loc=\"lower left\", bbox_to_anchor=(0, 1))\n",
    "axs[0].set_ylabel(\"Depth [m]\")\n",
    "axs[0].set_xlabel(\"Potential density [kg m$^{-3}$]\")\n",
    "axs[1].set_xlabel(r\"$\\epsilon$ [W kg$^{-1}$]\")\n",
    "axs[2].set_xlabel(r\"$N^2$ [rad$^2$ s$^{-2}$]\")\n",
    "axs[3].set_xlabel(\"Thorpe displacement [m]\")\n",
    "\n",
    "fig.align_labels()"
   ]
  },
  {
   "cell_type": "markdown",
   "metadata": {},
   "source": [
    "Starting from the left, we have potential density and sorted potential density. Overturning patches should correspond to regions where the potential density is different from the sorted potential density. Next is the dissipation rate, $\\epsilon$, plotted in green are the values that have passed quality control and in red those that were rejected by some criteria. The plot looks a bit odd because there are jumps in $\\epsilon$. This is caused by small overturns next to large overturns. Ultimately, a lot of small overturns will be rejected by quality control. Third from the left is buoyancy frequency, which can be calculated in a number of different ways. We will explore this in more detail later. Next is the Thorpe displacements and Thorpe length scale, which are equal to the root mean square displacement for each overturning patch.\n",
    "\n",
    "Now we look at some of the flags."
   ]
  },
  {
   "cell_type": "code",
   "execution_count": null,
   "metadata": {},
   "outputs": [],
   "source": [
    "fig, axs = plt.subplots(\n",
    "    1, 5, sharey=True, figsize=(9, 6), gridspec_kw={\"width_ratios\": [2, 1, 1, 1, 2]}\n",
    ")\n",
    "axs[0].plot(diag[\"thorpe_disp\"][cut], zc, label=\"Thorpe displacement\")\n",
    "axs[0].plot(diag[\"Lt\"][cut], zc, label=\"Thorpe scale\")\n",
    "axs[1].plot(diag[\"noise_flag\"][cut], zc, color=\"r\")\n",
    "axs[2].plot(diag[\"n2_flag\"][cut], zc, color=\"r\")\n",
    "axs[3].plot(diag[\"ends_flag\"][cut], zc, color=\"r\")\n",
    "axs[4].plot(diag[\"Ro\"][cut], zc, label=\"Ro value\")\n",
    "axs[4].plot(diag[\"Ro_flag\"][cut], zc, color=\"r\", label=\"Ro flag\")\n",
    "axs[4].axvline(Roc, color=\"k\", ls=\":\", label=\"Ro critical\")\n",
    "axs[0].invert_yaxis()\n",
    "axs[0].legend(loc=\"lower left\", bbox_to_anchor=(0, 1))\n",
    "axs[4].legend(loc=\"lower left\", bbox_to_anchor=(0, 1))\n",
    "axs[0].set_ylabel(\"Depth [m]\")\n",
    "axs[0].set_xlabel(\"Thorpe displacement [m]\")\n",
    "axs[1].set_xlabel(\"Noise flag\")\n",
    "axs[2].set_xlabel(\"N2 flag\")\n",
    "axs[3].set_xlabel(\"Ends flag\")\n",
    "axs[4].set_xlabel(\"Ro flag and value\")\n",
    "\n",
    "fig.align_labels()"
   ]
  },
  {
   "cell_type": "markdown",
   "metadata": {},
   "source": [
    "The noise flag is raised (True) where the density difference of the overturning region is smaller than the noise parameter. The N2 flag has not been raised anywhere, indicating there are no regions of negative buoyancy frequency. The ends flag is raised for the last overturn since it contains the end point of the data. However, it is just a warning flag and not used to quality control the output. The Ro flag is not raised because the overturn ratio is never less than the critical value.\n",
    "\n",
    "## With the intermediate profile method\n",
    "\n",
    "Now we run the Thorpe scale algorithm again using the intermediate profile method."
   ]
  },
  {
   "cell_type": "code",
   "execution_count": null,
   "metadata": {},
   "outputs": [],
   "source": [
    "dnoise = 5e-4\n",
    "alpha_sq = 0.9\n",
    "# Use the intermediate profile method\n",
    "use_ip = True\n",
    "\n",
    "eps, n2, diag = mx.overturn.eps_overturn(\n",
    "    p,\n",
    "    t,\n",
    "    s,\n",
    "    lon,\n",
    "    lat,\n",
    "    dnoise=dnoise,\n",
    "    alpha_sq=alpha_sq,\n",
    "    use_ip=use_ip,\n",
    "    return_diagnostics=True,\n",
    ")"
   ]
  },
  {
   "cell_type": "markdown",
   "metadata": {},
   "source": [
    "Plot the same depth range."
   ]
  },
  {
   "cell_type": "code",
   "execution_count": null,
   "metadata": {},
   "outputs": [],
   "source": [
    "fig, axs = plt.subplots(1, 4, sharey=True, figsize=(12, 6))\n",
    "axs[0].plot(diag[\"dens\"][cut], zc, label=\"density\")\n",
    "axs[0].plot(diag[\"dens_sorted\"][cut], zc, label=\"sorted density\")\n",
    "axs[0].plot(diag[\"dens_ip\"][cut], zc, label=\"intermediate density\")\n",
    "axs[1].plot(diag[\"eps\"][cut], zc, label=\"rejected epsilon\", color=\"r\")\n",
    "axs[1].plot(eps[cut], zc, label=\"accepted epsilon\", color=\"g\")\n",
    "axs[2].plot(diag[\"n2\"][cut], zc, label=\"rejected N2\", color=\"r\")\n",
    "axs[2].plot(n2[cut], zc, label=\"accepted N2\", color=\"g\")\n",
    "axs[3].plot(diag[\"thorpe_disp\"][cut], zc, label=\"Thorpe displacement\")\n",
    "axs[3].plot(diag[\"Lt\"][cut], zc, label=\"Thorpe scale\")\n",
    "axs[0].invert_yaxis()\n",
    "axs[0].legend(loc=\"lower left\", bbox_to_anchor=(0, 1))\n",
    "axs[1].legend(loc=\"lower left\", bbox_to_anchor=(0, 1))\n",
    "axs[2].legend(loc=\"lower left\", bbox_to_anchor=(0, 1))\n",
    "axs[3].legend(loc=\"lower left\", bbox_to_anchor=(0, 1))\n",
    "axs[0].set_ylabel(\"Depth [m]\")\n",
    "axs[0].set_xlabel(\"Potential density [kg m$^{-3}$]\")\n",
    "axs[1].set_xlabel(r\"$\\epsilon$ [W kg$^{-1}$]\")\n",
    "axs[2].set_xlabel(r\"$N^2$ [rad$^2$ s$^{-2}$]\")\n",
    "axs[3].set_xlabel(\"Thorpe displacement [m]\")\n",
    "\n",
    "fig.align_labels()"
   ]
  },
  {
   "cell_type": "markdown",
   "metadata": {},
   "source": [
    "Now we're using the intermediate profile method, the results have changed dramatically. Overturns are diagnosed from the intermediate profile of density, which looks rather different to the actual density. The overturning patches may be of different sizes to those estimated without the intermediate profile. Sorting the intermediate profile results in strange looking Thorpe displacements, because the sorting algorithm struggles when many data points have an identical value. There is an argument to be made the method should not be applied to data that has already been bin averaged (as ours has) and the method may work better on raw CTD data.\n",
    "\n",
    "Because the intermediate profile method fundamentally changes many aspects of the Thorpe algorithm, including the size of detected overturns and the Thorpe displacements, it is not straightforward or necessarily meaningful to raise a flag for rejected overturns. Consequently, most flags are disabled when using the method and so are not shown.\n",
    "\n",
    "## Compare methods of estimating $N^2$\n",
    "\n",
    "There are a few different options for calculating buoyancy frequency:"
   ]
  },
  {
   "cell_type": "code",
   "execution_count": null,
   "metadata": {},
   "outputs": [],
   "source": [
    "use_ip = False\n",
    "\n",
    "# Choose buoyancy frequency method\n",
    "Nsq_method = \"teosp1\"\n",
    "eps_teosp1, n2_teosp1 = mx.overturn.eps_overturn(\n",
    "    p, t, s, lon, lat, use_ip=use_ip, Nsq_method=Nsq_method,\n",
    ")\n",
    "\n",
    "Nsq_method = \"teos\"\n",
    "eps_teos, n2_teos = mx.overturn.eps_overturn(\n",
    "    p, t, s, lon, lat, dnoise, use_ip=use_ip, Nsq_method=Nsq_method,\n",
    ")\n",
    "\n",
    "Nsq_method = \"bulk\"\n",
    "eps_bulk, n2_bulk = mx.overturn.eps_overturn(\n",
    "    p, t, s, lon, lat, use_ip=use_ip, Nsq_method=Nsq_method,\n",
    ")\n",
    "\n",
    "Nsq_method = \"endpt\"\n",
    "eps_endpt, n2_endpt = mx.overturn.eps_overturn(\n",
    "    p, t, s, lon, lat, use_ip=use_ip, Nsq_method=Nsq_method,\n",
    ")"
   ]
  },
  {
   "cell_type": "markdown",
   "metadata": {},
   "source": [
    "A brief explanation of the methods:\n",
    "\n",
    "* `teos`: This method estimates $N^2$ from the thermodynamic equation of state 2010 (TEOS), using the tempurature and salinity at the first and last point in the overturn.\n",
    "* `toesp1`: This method is the same as above except it uses the temperature and salinity from the points immediately above and below overturn (p1 meaning plus 1).\n",
    "* `bulk`: This method comes from <cite data-cite=\"Smyth2001\">Smyth et al. (2001)</cite> and has the advantage of being insensitive to errors in determining the patch size. Buoyancy frequency is proportional to the root mean square density anomaly of an overturn, divided by the Thorpe scale.\n",
    "* `endpt`: This simple method estimates buoyancy frequency from the potential density gradient across each overturn."
   ]
  },
  {
   "cell_type": "code",
   "execution_count": null,
   "metadata": {},
   "outputs": [],
   "source": [
    "# Plot only in the depth range:\n",
    "z = ctd[\"z\"][notnan]\n",
    "cut = (z > 4225) & (z < 4350)\n",
    "zc = z[cut]\n",
    "\n",
    "fig, axs = plt.subplots(1, 3, sharey=True, figsize=(9, 6))\n",
    "axs[0].plot(diag[\"dens\"][cut], zc, label=\"density\")\n",
    "axs[0].plot(diag[\"dens_sorted\"][cut], zc, label=\"sorted density\")\n",
    "axs[1].plot(eps_teosp1[cut], zc, label=\"teosp1\")\n",
    "axs[1].plot(eps_teos[cut], zc, label=\"teos\")\n",
    "axs[1].plot(eps_bulk[cut], zc, label=\"bulk\")\n",
    "axs[1].plot(eps_endpt[cut], zc, label=\"endpt\")\n",
    "axs[2].plot(n2_teosp1[cut], zc, label=\"teosp1\")\n",
    "axs[2].plot(n2_teos[cut], zc, label=\"teos\")\n",
    "axs[2].plot(n2_bulk[cut], zc, label=\"bulk\")\n",
    "axs[2].plot(n2_endpt[cut], zc, label=\"endpt\")\n",
    "axs[0].invert_yaxis()\n",
    "axs[0].legend(loc=\"lower left\", bbox_to_anchor=(0, 1))\n",
    "axs[1].legend(loc=\"lower left\", bbox_to_anchor=(0, 1))\n",
    "axs[2].legend(loc=\"lower left\", bbox_to_anchor=(0, 1))\n",
    "axs[0].set_ylabel(\"Depth [m]\")\n",
    "axs[0].set_xlabel(\"Potential density [kg m$^{-3}$]\")\n",
    "axs[1].set_xlabel(r\"$\\epsilon$ [W kg$^{-1}$]\")\n",
    "axs[2].set_xlabel(r\"$N^2$ [rad$^2$ s$^{-2}$]\")\n",
    "\n",
    "fig.align_labels()"
   ]
  },
  {
   "cell_type": "markdown",
   "metadata": {},
   "source": [
    "The different methods can alter the dissipation rate estimate by almost an order of magnitude. The `endpt` and `teos` methods give such similar results they are indistinguishable. The `teosp1` method tends to result in higher $N^2$ estimates, because there is often a jump in stratification adjacent to an overturning patch."
   ]
  },
  {
   "cell_type": "markdown",
   "metadata": {},
   "source": [
    "## Thorpe scales from temperature only\n",
    "\n",
    "There are two different ways of doing this:\n",
    "\n",
    "* Provide both temperature and salinity profiles but set `overturns_from_CT = True`. In this case, overturns will be diagnosed from the conservative temperature profile. Buoyancy frequency will be estimated from the equation of state or potential density as specified by `Nsq_method`. \n",
    "\n",
    "* Provide as arguments to `eps_overturn` a profile of temperature and a constant salinity. Pseudo potential density will be calculated assuming a constant salinity profile. Overturns will be diagnosed from the pseudo potential density or the equation of state at constant salinity. As such, buoyancy frequency values will be incorrect in the ocean but perhaps useful for estimating $\\epsilon$. It is probably a good idea to choose a plausible salinity value, such as 0 psu for a fresh water environment or 35 psu for an ocean environment.\n",
    "\n",
    "Note that `dnoise` should describe the temperature noise if `overturns_from_CT = True` and the density noise at constant salinity if salinity is constant. \n",
    "\n",
    " "
   ]
  },
  {
   "cell_type": "code",
   "execution_count": null,
   "metadata": {},
   "outputs": [],
   "source": [
    "use_ip = False\n",
    "Nsq_method = \"teos\"\n",
    "\n",
    "eps_t, n2_t = mx.overturn.eps_overturn(\n",
    "    p, t, 35, lon, lat, use_ip=use_ip, Nsq_method=Nsq_method,\n",
    ")\n",
    "\n",
    "eps_ts, n2_ts = mx.overturn.eps_overturn(\n",
    "    p, t, s, lon, lat, dnoise=2e-4, use_ip=use_ip, Nsq_method=Nsq_method, overturns_from_CT=True,\n",
    ")\n",
    "\n",
    "eps, n2 = mx.overturn.eps_overturn(\n",
    "    p, t, s, lon, lat, dnoise, use_ip=use_ip, Nsq_method=Nsq_method,\n",
    ")\n",
    "\n",
    "fig, axs = plt.subplots(1, 2, sharey=True, figsize=(6, 6))\n",
    "axs[0].plot(eps_ts[cut], zc, label=\"overturns from CT\")\n",
    "axs[0].plot(eps_t[cut], zc, label=\"overturns from pseudo potential density\")\n",
    "axs[0].plot(eps[cut], zc, label=\"normal case\")\n",
    "axs[1].plot(n2_ts[cut], zc)\n",
    "axs[1].plot(n2_t[cut], zc)\n",
    "axs[1].plot(n2[cut], zc)\n",
    "axs[0].invert_yaxis()\n",
    "axs[0].legend(loc=\"lower left\", bbox_to_anchor=(0, 1))\n",
    "axs[0].set_ylabel(\"Depth [m]\")\n",
    "axs[0].set_xlabel(r\"$\\epsilon$ [W kg$^{-1}$]\")\n",
    "axs[1].set_xlabel(r\"$N^2$ [rad$^2$ s$^{-2}$]\")\n",
    "\n",
    "fig.align_labels()"
   ]
  },
  {
   "cell_type": "markdown",
   "metadata": {},
   "source": [
    "The smaller noise parameter in the `overturns_from_CT` case means that more overturns are found, however, $\\epsilon$ tends to be a bit lower than the normal case."
   ]
  }
 ],
 "metadata": {
  "jupytext": {
   "formats": "ipynb,py:percent"
  },
  "kernelspec": {
   "display_name": "mixsea",
   "language": "python",
   "name": "mixsea"
  },
  "language_info": {
   "codemirror_mode": {
    "name": "ipython",
    "version": 3
   },
   "file_extension": ".py",
   "mimetype": "text/x-python",
   "name": "python",
   "nbconvert_exporter": "python",
   "pygments_lexer": "ipython3",
   "version": "3.8.2"
  }
 },
 "nbformat": 4,
 "nbformat_minor": 4
}
