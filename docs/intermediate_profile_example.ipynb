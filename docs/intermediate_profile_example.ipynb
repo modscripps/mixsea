{
 "cells": [
  {
   "cell_type": "markdown",
   "metadata": {},
   "source": [
    "# Example: intermediate profile method\n",
    "\n",
    "The method was first published in <cite data-cite=\"Ferron1998\">Ferron et al. (1998)</cite> and augmented by <cite data-cite=\"Gargett2008\">Gargett and Garner (2008)</cite>."
   ]
  },
  {
   "cell_type": "code",
   "execution_count": null,
   "metadata": {},
   "outputs": [],
   "source": [
    "import mixsea as mx\n",
    "import numpy as np\n",
    "import gsw\n",
    "import matplotlib.pyplot as plt"
   ]
  },
  {
   "cell_type": "markdown",
   "metadata": {},
   "source": [
    "Load example CTD data."
   ]
  },
  {
   "cell_type": "code",
   "execution_count": null,
   "metadata": {},
   "outputs": [],
   "source": [
    "ctd = mx.helpers.read_ctd_testfile()"
   ]
  },
  {
   "cell_type": "markdown",
   "metadata": {},
   "source": [
    "What does the intermediate profile method do? Lets see an example using temperature."
   ]
  },
  {
   "cell_type": "code",
   "execution_count": null,
   "metadata": {},
   "outputs": [],
   "source": [
    "acc = 1e-3\n",
    "hinge = 0\n",
    "\n",
    "# Restrict ourselves to:\n",
    "use = (ctd['z'] < 4300) & (ctd['z'] > 4250) & np.isfinite(ctd['t'])\n",
    "z = ctd['z'][use]\n",
    "t = ctd['t'][use]\n",
    "\n",
    "tup = mx.overturn.intermediate_profile(t, acc, hinge, 'up')\n",
    "tdo = mx.overturn.intermediate_profile(t, acc, hinge, 'down')\n",
    "tav = mx.overturn.intermediate_profile(t, acc, hinge, 'ave')\n",
    "\n",
    "fig, ax = plt.subplots(1, 1)\n",
    "ax.invert_yaxis()\n",
    "ax.plot(t, z, label='data')\n",
    "ax.plot(tup, z, label='up')\n",
    "ax.plot(tdo, z, label='down')\n",
    "ax.plot(tav, z, label='ave')\n",
    "ax.legend()\n",
    "ax.set_xlabel('Temperature [$^\\circ$C]')\n",
    "ax.set_ylabel('Depth [m]')"
   ]
  },
  {
   "cell_type": "markdown",
   "metadata": {},
   "source": [
    "The method creates a new profile that moves in increments of the argument `acc`. A region that looks unstable in the data (such as the cold water over light in the region around 4270 m) might be smoothed out in the intermediate profile."
   ]
  }
 ],
 "metadata": {
  "jupytext": {
   "text_representation": {
    "extension": ".py",
    "format_name": "percent",
    "format_version": "1.2",
    "jupytext_version": "1.2.4"
   }
  },
  "kernelspec": {
   "display_name": "mixsea",
   "language": "python",
   "name": "mixsea"
  },
  "language_info": {
   "codemirror_mode": {
    "name": "ipython",
    "version": 3
   },
   "file_extension": ".py",
   "mimetype": "text/x-python",
   "name": "python",
   "nbconvert_exporter": "python",
   "pygments_lexer": "ipython3",
   "version": "3.8.2"
  }
 },
 "nbformat": 4,
 "nbformat_minor": 4
}
