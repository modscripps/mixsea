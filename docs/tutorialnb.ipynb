{
 "cells": [
  {
   "cell_type": "markdown",
   "metadata": {
    "janus": {
     "all_versions_showing": false,
     "cell_hidden": false,
     "current_version": 0,
     "id": "52ba291eebef",
     "named_versions": [],
     "output_hidden": false,
     "show_versions": false,
     "source_hidden": false,
     "versions": []
    }
   },
   "source": [
    "# Tutorials"
   ]
  },
  {
   "cell_type": "markdown",
   "metadata": {
    "janus": {
     "all_versions_showing": false,
     "cell_hidden": false,
     "current_version": 0,
     "id": "f2fd47f80438b",
     "named_versions": [],
     "output_hidden": false,
     "show_versions": false,
     "source_hidden": false,
     "versions": []
    }
   },
   "source": [
    "<div class=\"alert alert-info\">\n",
    "\n",
    "Note\n",
    "    \n",
    "This tutorial section is available as jupyter notebook in the `docs/` directory.\n",
    "\n",
    "</div>"
   ]
  },
  {
   "cell_type": "markdown",
   "metadata": {
    "janus": {
     "all_versions_showing": false,
     "cell_hidden": false,
     "current_version": 0,
     "id": "503fd9cd7e3d18",
     "named_versions": [],
     "output_hidden": false,
     "show_versions": false,
     "source_hidden": false,
     "versions": []
    }
   },
   "source": [
    "For all tutorials below we need to import mixsea and a few other libraries:"
   ]
  },
  {
   "cell_type": "code",
   "execution_count": null,
   "metadata": {
    "janus": {
     "all_versions_showing": false,
     "cell_hidden": false,
     "current_version": 0,
     "id": "5095fbea004c38",
     "named_versions": [],
     "output_hidden": false,
     "show_versions": false,
     "source_hidden": false,
     "versions": []
    }
   },
   "outputs": [],
   "source": [
    "import mixsea as mx\n",
    "import numpy as np\n",
    "import matplotlib.pyplot as plt"
   ]
  },
  {
   "cell_type": "markdown",
   "metadata": {
    "janus": {
     "all_versions_showing": false,
     "cell_hidden": false,
     "current_version": 0,
     "id": "98984abdda3f78",
     "named_versions": [],
     "output_hidden": false,
     "show_versions": false,
     "source_hidden": false,
     "versions": []
    }
   },
   "source": [
    "## Read example CTD/LADCP profile\n",
    "\n",
    "Read the example CTD and LADCP profiles from the test suite using a little helper function:"
   ]
  },
  {
   "cell_type": "code",
   "execution_count": null,
   "metadata": {
    "janus": {
     "all_versions_showing": false,
     "cell_hidden": false,
     "current_version": 0,
     "id": "06bb7b7703f98",
     "named_versions": [],
     "output_hidden": false,
     "show_versions": false,
     "source_hidden": false,
     "versions": []
    }
   },
   "outputs": [],
   "source": [
    "ctd = mx.helpers.read_ctd_testfile()\n",
    "ladcp = mx.helpers.read_ladcp_testfile()"
   ]
  },
  {
   "cell_type": "markdown",
   "metadata": {
    "janus": {
     "all_versions_showing": false,
     "cell_hidden": false,
     "current_version": 0,
     "id": "7647faceff63",
     "named_versions": [],
     "output_hidden": false,
     "show_versions": false,
     "source_hidden": false,
     "versions": []
    }
   },
   "source": [
    "A quick overview plot of the data:"
   ]
  },
  {
   "cell_type": "code",
   "execution_count": null,
   "metadata": {
    "janus": {
     "all_versions_showing": false,
     "cell_hidden": false,
     "current_version": 0,
     "id": "f5fe8d01d3c",
     "named_versions": [],
     "output_hidden": false,
     "show_versions": false,
     "source_hidden": false,
     "versions": []
    }
   },
   "outputs": [],
   "source": [
    "fig, ax = plt.subplots(nrows=1,\n",
    "                           ncols=3,\n",
    "                           figsize=(9, 3),\n",
    "                           constrained_layout=True, \n",
    "                           sharey=True)\n",
    "ax[0].plot(ctd['t'], ctd['z'])\n",
    "ax[0].set(ylabel='depth [m]', xlabel='temperature [°C]')\n",
    "ax[1].plot(ladcp['u'], ladcp['z'], label='u')\n",
    "ax[1].plot(ladcp['v'], ladcp['z'], label='v')\n",
    "ax[1].set(xlabel='velocity [m/s]')\n",
    "ax[1].legend()\n",
    "ax[2].plot(ladcp['uz'], ladcp['z'], label=r'u$_{z}$')\n",
    "ax[2].plot(ladcp['vz'], ladcp['z'], label=r'v$_{z}$')\n",
    "ax[2].set(xlabel='shear [1/s]')\n",
    "ax[2].legend()\n",
    "ax[0].invert_yaxis()"
   ]
  },
  {
   "cell_type": "markdown",
   "metadata": {
    "janus": {
     "all_versions_showing": false,
     "cell_hidden": false,
     "current_version": 0,
     "id": "7dab5a1f6a56",
     "named_versions": [],
     "output_hidden": false,
     "show_versions": false,
     "source_hidden": false,
     "versions": []
    }
   },
   "source": [
    "This is cast 81 from the 2012 Samoan Passage cruise. The layer of cold\n",
    "Antarctic Bottom Water flowing through the Samoan Passage shows up in\n",
    "temperature, velocity and shear. See <cite data-cite=\"voetetal15\">Voet et al. (2015)</cite> for more information.\n",
    "\n",
    "Now we have data on hand to apply mixing parameterizations below."
   ]
  },
  {
   "cell_type": "markdown",
   "metadata": {
    "janus": {
     "all_versions_showing": false,
     "cell_hidden": false,
     "current_version": 0,
     "id": "d5d32e47ebfd58",
     "named_versions": [],
     "output_hidden": false,
     "show_versions": false,
     "source_hidden": false,
     "versions": []
    }
   },
   "source": [
    "## Thorpe scales / overturns\n",
    "\n",
    "A common practise when compiling observational data from ctd casts is to pad the top and/or bottom of profiles with NaN. This allows for convenient storage of many different length profiles in one 2D array. However, it also means we must constantly think about how to deal with NaN values in our data. This module contains a version of the Thorpe scale method that attempts to deal with NaN values in the most simple way possible, that is, it removes them before doing any calculations and then adds them back at the end. In many cases, such a simple approach will not be appropriate and could lead to erroneous results. As such, we highly recommend performing a quality control of your data prior to Thorpe scale analysis. In the example below we use `nan_eps_overturn` because our test data contain NaNs. If your data do not, then it is better to use `eps_overturn` directly. "
   ]
  },
  {
   "cell_type": "code",
   "execution_count": null,
   "metadata": {
    "janus": {
     "all_versions_showing": false,
     "cell_hidden": false,
     "current_version": 0,
     "id": "b6b49a432a1f4",
     "named_versions": [],
     "output_hidden": false,
     "show_versions": false,
     "source_hidden": false,
     "versions": []
    }
   },
   "outputs": [],
   "source": [
    "dnoise = 5e-4  # Noise parameter\n",
    "alpha_sq = 0.9  # Square of the coefficient relating the Thorpe and Ozmidov scales.\n",
    "# Background value of epsilon applied where no overturns are detected.\n",
    "background_eps = np.nan\n",
    "# Use the intermediate profile method\n",
    "use_ip = True\n",
    "\n",
    "eps, n2, diag = mx.overturn.nan_eps_overturn(\n",
    "    ctd[\"p\"],\n",
    "    ctd[\"t\"],\n",
    "    ctd[\"s\"],\n",
    "    ctd[\"lon\"][0],\n",
    "    ctd[\"lat\"][0],\n",
    "    dnoise,\n",
    "    alpha_sq,\n",
    "    background_eps,\n",
    "    use_ip=use_ip,\n",
    "    return_diagnostics=True,\n",
    ")\n",
    "\n",
    "Lt = diag[\"Lt\"]"
   ]
  },
  {
   "cell_type": "markdown",
   "metadata": {
    "janus": {
     "all_versions_showing": false,
     "cell_hidden": false,
     "current_version": 0,
     "id": "4118c3fabad66",
     "named_versions": [],
     "output_hidden": false,
     "show_versions": false,
     "source_hidden": false,
     "versions": []
    }
   },
   "source": [
    "Take a look at the result."
   ]
  },
  {
   "cell_type": "code",
   "execution_count": null,
   "metadata": {
    "janus": {
     "all_versions_showing": false,
     "cell_hidden": false,
     "current_version": 0,
     "id": "633575296465e8",
     "named_versions": [],
     "output_hidden": false,
     "show_versions": false,
     "source_hidden": false,
     "versions": []
    }
   },
   "outputs": [],
   "source": [
    "n = np.sqrt(n2) * (86400 / (2 * np.pi))  # Calculate buoyancy frequency in units of cpd.\n",
    "\n",
    "# Plot only in the depth range:\n",
    "cut = (ctd['z'] > 4200) & (ctd['z'] < 4400)\n",
    "z = ctd['z'][cut]\n",
    "\n",
    "fig, axs = plt.subplots(1, 5, sharey=True, constrained_layout=True, figsize=(9, 5))\n",
    "axs[0].plot(Lt[cut], z)\n",
    "axs[1].plot(n[cut], z)\n",
    "axs[2].plot(eps[cut], z)\n",
    "axs[3].plot(ctd[\"t\"][cut], z)\n",
    "axs[4].plot(ctd[\"s\"][cut], z)\n",
    "axs[0].invert_yaxis()\n",
    "axs[0].set_ylabel(\"Depth [m]\")\n",
    "axs[0].set_xlabel(\"Thorpe scale [m]\")\n",
    "axs[1].set_xlabel(r\"$N$ [cpd]\")\n",
    "axs[2].set_xlabel(r\"$\\epsilon$ [W/kg]\")\n",
    "axs[3].set_xlabel(r\"Temperature [$^\\circ$C]\")\n",
    "axs[4].set_xlabel(\"Salinity [g/kg]\")\n",
    "fig.align_labels()"
   ]
  },
  {
   "cell_type": "markdown",
   "metadata": {
    "janus": {
     "all_versions_showing": false,
     "cell_hidden": false,
     "current_version": 0,
     "id": "640def2242cea8",
     "named_versions": [],
     "output_hidden": false,
     "show_versions": false,
     "source_hidden": false,
     "versions": []
    }
   },
   "source": [
    "## Shear/strain\n",
    "\n",
    "Set up parameters for the shear/strain parameterization:"
   ]
  },
  {
   "cell_type": "code",
   "execution_count": null,
   "metadata": {
    "janus": {
     "all_versions_showing": false,
     "cell_hidden": false,
     "current_version": 0,
     "id": "9a572b066259",
     "named_versions": [],
     "output_hidden": false,
     "show_versions": false,
     "source_hidden": false,
     "versions": []
    }
   },
   "outputs": [],
   "source": [
    "# Center points of depth windows. Windows are half overlapping, i.e.\n",
    "# their size (200m) is double the spacing here (100m).\n",
    "window_size = 200\n",
    "dz = window_size / 2\n",
    "print(\"window size {} m, window spacing {} m\".format(window_size, dz))\n",
    "zbin = np.linspace(dz, dz * 60, num=60)\n",
    "# Wavenumber vector. Starts at wavenumber corresponding to a 200m\n",
    "# wavelength.\n",
    "m = np.arange(2 * np.pi / 200, 2 * np.pi / 10, 2 * np.pi / 200)\n",
    "# Wavenumber indices for integration. Shear is integrated from 300m to\n",
    "# 100m scales. Strain is integrated from 150m to 30m.\n",
    "m_include_sh = list(range(3))\n",
    "m_include_st = list(range(1, 12))"
   ]
  },
  {
   "cell_type": "markdown",
   "metadata": {
    "janus": {
     "all_versions_showing": false,
     "cell_hidden": false,
     "current_version": 0,
     "id": "c41f8f269f8438",
     "named_versions": [],
     "output_hidden": false,
     "show_versions": false,
     "source_hidden": false,
     "versions": []
    }
   },
   "source": [
    "Now run the shear/strain parameterization:"
   ]
  },
  {
   "cell_type": "code",
   "execution_count": null,
   "metadata": {
    "janus": {
     "all_versions_showing": false,
     "cell_hidden": false,
     "current_version": 0,
     "id": "83b2ab34a7137",
     "named_versions": [],
     "output_hidden": false,
     "show_versions": false,
     "source_hidden": false,
     "versions": []
    }
   },
   "outputs": [],
   "source": [
    "eps_shst, krho_shst, diag = mx.shearstrain.shearstrain(\n",
    "    ctd[\"s\"],\n",
    "    ctd[\"t\"],\n",
    "    ctd[\"p\"],\n",
    "    ctd[\"z\"],\n",
    "    ctd[\"lat\"],\n",
    "    ctd[\"lon\"],\n",
    "    ladcp[\"uz\"],\n",
    "    ladcp[\"vz\"],\n",
    "    ladcp[\"z\"],\n",
    "    m=m,\n",
    "    z_bin=zbin,\n",
    "    m_include_sh=m_include_sh,\n",
    "    m_include_st=m_include_st,\n",
    "    ladcp_is_shear=True,\n",
    "    smooth=\"AL\",\n",
    "    return_diagnostics=True,\n",
    ")"
   ]
  },
  {
   "cell_type": "markdown",
   "metadata": {
    "janus": {
     "all_versions_showing": false,
     "cell_hidden": false,
     "current_version": 0,
     "id": "cd47e6c0956a08",
     "named_versions": [],
     "output_hidden": false,
     "show_versions": false,
     "source_hidden": false,
     "versions": []
    }
   },
   "source": [
    "Plot the results:"
   ]
  },
  {
   "cell_type": "code",
   "execution_count": null,
   "metadata": {
    "janus": {
     "all_versions_showing": false,
     "cell_hidden": false,
     "current_version": 0,
     "id": "ce67995fee7888",
     "named_versions": [],
     "output_hidden": false,
     "show_versions": false,
     "source_hidden": false,
     "versions": []
    }
   },
   "outputs": [],
   "source": [
    "z_bin = diag['z_bin']\n",
    "eps_st = diag['eps_st']\n",
    "krho_st = diag['krho_st']\n",
    "fig, ax = plt.subplots(nrows=1, ncols=2, figsize=(9, 5),\n",
    "constrained_layout=True, sharey=True)\n",
    "ax[0].plot(eps_shst, z_bin, label='shear/strain');\n",
    "ax[0].plot(eps_st, z_bin, label='strain only');\n",
    "ax[0].legend()\n",
    "ax[0].set(xscale='log', xlabel=r'$\\epsilon$ [W/kg]', ylabel='depth [m]',\n",
    "          title='turbulent dissipation');\n",
    "ax[1].plot(krho_shst, z_bin, label='shear/strain');\n",
    "ax[1].plot(krho_st, z_bin, label='strain only');\n",
    "ax[1].legend();\n",
    "ax[1].set(xscale='log', xlabel=r'k$_{\\rho}$ [m$^2$/s]',\n",
    "          title='vertical diffusivity');\n",
    "ax[0].invert_yaxis()"
   ]
  },
  {
   "cell_type": "code",
   "execution_count": null,
   "metadata": {
    "janus": {
     "all_versions_showing": false,
     "cell_hidden": false,
     "current_version": 0,
     "id": "238b71d3c8e3a8",
     "named_versions": [],
     "output_hidden": false,
     "show_versions": false,
     "source_hidden": false,
     "versions": []
    }
   },
   "outputs": [],
   "source": []
  }
 ],
 "metadata": {
  "janus": {
   "filepaths": [],
   "janus_markers": [],
   "track_history": true
  },
  "jupytext": {
   "encoding": "# -*- coding: utf-8 -*-",
   "text_representation": {
    "extension": ".py",
    "format_name": "percent",
    "format_version": "1.2",
    "jupytext_version": "1.2.4"
   }
  },
  "kernelspec": {
   "display_name": "Python 3.8.2 64-bit ('mixsea': conda)",
   "language": "python",
   "name": "python38264bitmixseaconda7d057632f52e406aa3ea1ab383c05b28"
  },
  "language_info": {
   "codemirror_mode": {
    "name": "ipython",
    "version": 3
   },
   "file_extension": ".py",
   "mimetype": "text/x-python",
   "name": "python",
   "nbconvert_exporter": "python",
   "pygments_lexer": "ipython3",
   "version": "3.8.2"
  }
 },
 "nbformat": 4,
 "nbformat_minor": 4
}
